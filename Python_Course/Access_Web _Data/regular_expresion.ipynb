{
 "cells": [
  {
   "cell_type": "code",
   "execution_count": 2,
   "metadata": {},
   "outputs": [],
   "source": [
    "import re #import regular expression library"
   ]
  },
  {
   "cell_type": "code",
   "execution_count": 6,
   "metadata": {},
   "outputs": [
    {
     "name": "stdout",
     "output_type": "stream",
     "text": [
      "For example, look at the first three paragraphs of this\n",
      "\n",
      "For example, if you say, \n",
      "\n",
      "For example, look at the following text about a clown and a car.  Look at the \n",
      "\n"
     ]
    }
   ],
   "source": [
    "hand = open('text1.txt')\n",
    "for line in hand:\n",
    "    line.rstrip()\n",
    "    if re.search('For example', line): # Search \"for example\"\n",
    "        print(line)\n"
   ]
  },
  {
   "cell_type": "code",
   "execution_count": null,
   "metadata": {},
   "outputs": [],
   "source": [
    "for line in hand:\n",
    "    line.rstrip()\n",
    "    if re.search('^Before', line): #Search \"Before\" at begin of the line\n",
    "        print(line)\n",
    "\n",
    "# \"^X.*:\" start the line with \"X\", folow by any character \".\",  folow by \"*\" many times, follow by a \":\"\n",
    "# \"^X-\\S+:\" start the line with \"X-\", match any non-whitespaces character \"\\S\",  folow by one or more times \"+\", follow by a \":\"\n",
    "        \n",
    "#re.search returns a True/False\n",
    "#re.findall returns a list of the posible matches\n"
   ]
  },
  {
   "cell_type": "code",
   "execution_count": null,
   "metadata": {},
   "outputs": [],
   "source": [
    "x = 'My 2 favorite numbers are 19 and 42'\n",
    "y = re.findall('[0-9]+', x) # [0-9]+ one or more digits  output ['2', '19', '42']\n",
    "print(y)\n",
    "y = re.findall('[AEIOU]+', x) # [AEIOU]+ one or more uppercase vowel characters\n"
   ]
  },
  {
   "cell_type": "code",
   "execution_count": null,
   "metadata": {},
   "outputs": [],
   "source": [
    "s = 'From: using the : character'\n",
    "d = re.findall('^F.+:', s) # ouput ['From: using the :'] becasue it still searching for the last \":\"\n",
    "print(d)\n"
   ]
  },
  {
   "cell_type": "code",
   "execution_count": null,
   "metadata": {},
   "outputs": [],
   "source": [
    "sq = 'From: using the : character'\n",
    "dq = re.findall('^F.+?:', sq) # ^F.+?: the \"?2 means no be greedy ouput ['From:']\n",
    "print(dq)"
   ]
  },
  {
   "cell_type": "code",
   "execution_count": 5,
   "metadata": {},
   "outputs": [
    {
     "name": "stdout",
     "output_type": "stream",
     "text": [
      "['oscar@gmail.com']\n"
     ]
    }
   ],
   "source": [
    "qw= 'From oscar@gmail.com sat jan 5 09:14:16 2008'\n",
    "qe = re.findall('^From (\\S+@\\S+)', qw) # the extract part is inside of the parenthesis\n",
    "print (qe)\n",
    "#Without regular expression the double split patterns "
   ]
  },
  {
   "cell_type": "code",
   "execution_count": 7,
   "metadata": {},
   "outputs": [
    {
     "name": "stdout",
     "output_type": "stream",
     "text": [
      "gmail.com\n"
     ]
    }
   ],
   "source": [
    "QWE = qw.split()\n",
    "email = QWE[1]\n",
    "pieces = email.split('@') # Output gmail.com, Takes the lines and splits then takes the second index and split again using \"@\" as parameter \n",
    "print (pieces[1]) #\n"
   ]
  },
  {
   "cell_type": "code",
   "execution_count": 8,
   "metadata": {},
   "outputs": [
    {
     "name": "stdout",
     "output_type": "stream",
     "text": [
      "['gmail.com']\n",
      "['gmail.com']\n"
     ]
    }
   ],
   "source": [
    "# The regex version\n",
    "l = re.findall('@([^ ]*)', qw)\n",
    "ll = re.findall('^From .*@([^ ]*)', qw) ## find \"@\" follow by some number no blank characters\n",
    "print(l) # Output ['gmail.com']\n",
    "print(ll)"
   ]
  },
  {
   "cell_type": "code",
   "execution_count": 3,
   "metadata": {},
   "outputs": [
    {
     "name": "stdout",
     "output_type": "stream",
     "text": [
      "['$10.00']\n"
     ]
    }
   ],
   "source": [
    "#Escape character\n",
    "er = 'we just recived $10.00 for cookies.'\n",
    "df = re.findall('\\$[0-9.]+', er)\n",
    "print(df)"
   ]
  },
  {
   "cell_type": "code",
   "execution_count": null,
   "metadata": {},
   "outputs": [],
   "source": []
  }
 ],
 "metadata": {
  "kernelspec": {
   "display_name": "Python 3",
   "language": "python",
   "name": "python3"
  },
  "language_info": {
   "codemirror_mode": {
    "name": "ipython",
    "version": 3
   },
   "file_extension": ".py",
   "mimetype": "text/x-python",
   "name": "python",
   "nbconvert_exporter": "python",
   "pygments_lexer": "ipython3",
   "version": "3.11.5"
  }
 },
 "nbformat": 4,
 "nbformat_minor": 2
}
