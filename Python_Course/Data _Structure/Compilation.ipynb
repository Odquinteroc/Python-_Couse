{
 "cells": [
  {
   "cell_type": "markdown",
   "metadata": {},
   "source": [
    "# Concatenate"
   ]
  },
  {
   "cell_type": "code",
   "execution_count": null,
   "metadata": {},
   "outputs": [],
   "source": [
    "a = 'hello'\n",
    "b = a +' ' 'world'\n",
    "#using in as logic operator\n",
    "fruits = 'apple'\n",
    "'p' in fruits\n",
    "#using not as logic operator\n",
    "fruits = 'banana'\n",
    "not 'a' in fruits\n",
    "# COmparing Strings\n",
    "# Upper case letters are less than lower case letters\n",
    "# < A < a \n",
    "# Z < a \n",
    "#Strings are objects\n",
    "#Strigs libraries\n",
    "greet = 'Hello Bob'\n",
    "zap = greet.lower()\n",
    "print(zap)\n",
    "print('Hellos'.upper())"
   ]
  },
  {
   "cell_type": "markdown",
   "metadata": {},
   "source": [
    "# Count the most frequent letters\n",
    " store them in a Dictionary"
   ]
  },
  {
   "cell_type": "code",
   "execution_count": 1,
   "metadata": {},
   "outputs": [
    {
     "name": "stdout",
     "output_type": "stream",
     "text": [
      "{'b': 1, 'r': 2, 'o': 2, 'n': 1, 't': 1, 's': 2, 'a': 1, 'u': 2}\n"
     ]
    }
   ],
   "source": [
    "word = 'brontosaurus'\n",
    "d = dict()\n",
    "for c in word:\n",
    "    if c not in d:\n",
    "        d[c] = 1\n",
    "    else:\n",
    "        d[c] = d[c] + 1\n",
    "\n",
    "print(d)"
   ]
  },
  {
   "cell_type": "markdown",
   "metadata": {},
   "source": [
    "# Input a file\n",
    "with for loop going through each row and split each word  and save it into a list"
   ]
  },
  {
   "cell_type": "code",
   "execution_count": 2,
   "metadata": {},
   "outputs": [
    {
     "name": "stdout",
     "output_type": "stream",
     "text": [
      "['Prerequisites']\n",
      "['Building', 'NumPy', 'requires', 'the', 'following', 'software', 'installed:']\n",
      "['Python', '3.9.x', 'or', 'newer']\n",
      "['Please', 'note', 'that', 'the', 'Python', 'development', 'headers', 'also', 'need', 'to', 'be', 'installed,', 'e.g.,', 'on', 'Debian/Ubuntu', 'one', 'needs', 'to', 'install', 'both', 'python3', 'and', 'python3-dev.', 'On', 'Windows', 'and', 'macOS', 'this', 'is', 'normally', 'not', 'an', 'issue.']\n",
      "['Compilers']\n",
      "['Much', 'of', 'NumPy', 'is', 'written', 'in', 'C', 'and', 'C++.', 'You', 'will', 'need', 'a', 'C', 'compiler', 'that', 'complies', 'with', 'the', 'C99', 'standard,', 'and', 'a', 'C++', 'compiler', 'that', 'complies', 'with', 'the', 'C++17', 'standard.']\n"
     ]
    }
   ],
   "source": [
    "name = input('Enter file: ')\n",
    "try:\n",
    "    handle = open(name, 'r')\n",
    "except:\n",
    "    print('File not found')\n",
    "    exit()\n",
    "\n",
    "for line in handle:\n",
    "    words = line.split()\n",
    "    print(words)\n",
    "   # print(line)"
   ]
  },
  {
   "cell_type": "code",
   "execution_count": 3,
   "metadata": {},
   "outputs": [
    {
     "name": "stdout",
     "output_type": "stream",
     "text": [
      "[(4, 'the'), (4, 'and'), (3, 'that'), (2, 'with'), (2, 'to'), (2, 'need'), (2, 'is'), (2, 'complies'), (2, 'compiler'), (2, 'a'), (2, 'Python'), (2, 'NumPy'), (2, 'C'), (1, 'written'), (1, 'will'), (1, 'this'), (1, 'standard.'), (1, 'standard,'), (1, 'software'), (1, 'requires'), (1, 'python3-dev.'), (1, 'python3'), (1, 'or'), (1, 'one'), (1, 'on'), (1, 'of'), (1, 'note'), (1, 'not'), (1, 'normally'), (1, 'newer'), (1, 'needs'), (1, 'macOS'), (1, 'issue.'), (1, 'installed:'), (1, 'installed,'), (1, 'install'), (1, 'in'), (1, 'headers'), (1, 'following'), (1, 'e.g.,'), (1, 'development'), (1, 'both'), (1, 'be'), (1, 'an'), (1, 'also'), (1, 'You'), (1, 'Windows'), (1, 'Prerequisites'), (1, 'Please'), (1, 'On'), (1, 'Much'), (1, 'Debian/Ubuntu'), (1, 'Compilers'), (1, 'C99'), (1, 'C++17'), (1, 'C++.'), (1, 'C++'), (1, 'Building'), (1, '3.9.x')]\n"
     ]
    }
   ],
   "source": [
    "name = input('Enter file: ')\n",
    "try:\n",
    "    handle = open(name, 'r')\n",
    "except FileNotFoundError:\n",
    "    print('File not found')\n",
    "    exit()\n",
    "counts = dict()\n",
    "for line in handle: # read each line in the file\n",
    "    words = line.split() # split each line in list of each words\n",
    "    for word in words: # go through each word in the list\n",
    "        counts[word] = counts.get(word, 0) + 1 # count each word and add it to the dictionary \n",
    "        #print(counts, word)\n",
    "lst = list()\n",
    "\n",
    "print(sorted([(v, k) for k, v in counts.items()], reverse=True))"
   ]
  },
  {
   "cell_type": "code",
   "execution_count": 4,
   "metadata": {},
   "outputs": [
    {
     "name": "stdout",
     "output_type": "stream",
     "text": [
      "{'Prerequisites': 1} Prerequisites\n",
      "{'Prerequisites': 1, 'Building': 1} Building\n",
      "{'Prerequisites': 1, 'Building': 1, 'NumPy': 1} NumPy\n",
      "{'Prerequisites': 1, 'Building': 1, 'NumPy': 1, 'requires': 1} requires\n",
      "{'Prerequisites': 1, 'Building': 1, 'NumPy': 1, 'requires': 1, 'the': 1} the\n",
      "{'Prerequisites': 1, 'Building': 1, 'NumPy': 1, 'requires': 1, 'the': 1, 'following': 1} following\n",
      "{'Prerequisites': 1, 'Building': 1, 'NumPy': 1, 'requires': 1, 'the': 1, 'following': 1, 'software': 1} software\n",
      "{'Prerequisites': 1, 'Building': 1, 'NumPy': 1, 'requires': 1, 'the': 1, 'following': 1, 'software': 1, 'installed:': 1} installed:\n",
      "{'Prerequisites': 1, 'Building': 1, 'NumPy': 1, 'requires': 1, 'the': 1, 'following': 1, 'software': 1, 'installed:': 1, 'Python': 1} Python\n",
      "{'Prerequisites': 1, 'Building': 1, 'NumPy': 1, 'requires': 1, 'the': 1, 'following': 1, 'software': 1, 'installed:': 1, 'Python': 1, '3.9.x': 1} 3.9.x\n",
      "{'Prerequisites': 1, 'Building': 1, 'NumPy': 1, 'requires': 1, 'the': 1, 'following': 1, 'software': 1, 'installed:': 1, 'Python': 1, '3.9.x': 1, 'or': 1} or\n",
      "{'Prerequisites': 1, 'Building': 1, 'NumPy': 1, 'requires': 1, 'the': 1, 'following': 1, 'software': 1, 'installed:': 1, 'Python': 1, '3.9.x': 1, 'or': 1, 'newer': 1} newer\n",
      "{'Prerequisites': 1, 'Building': 1, 'NumPy': 1, 'requires': 1, 'the': 1, 'following': 1, 'software': 1, 'installed:': 1, 'Python': 1, '3.9.x': 1, 'or': 1, 'newer': 1, 'Please': 1} Please\n",
      "{'Prerequisites': 1, 'Building': 1, 'NumPy': 1, 'requires': 1, 'the': 1, 'following': 1, 'software': 1, 'installed:': 1, 'Python': 1, '3.9.x': 1, 'or': 1, 'newer': 1, 'Please': 1, 'note': 1} note\n",
      "{'Prerequisites': 1, 'Building': 1, 'NumPy': 1, 'requires': 1, 'the': 1, 'following': 1, 'software': 1, 'installed:': 1, 'Python': 1, '3.9.x': 1, 'or': 1, 'newer': 1, 'Please': 1, 'note': 1, 'that': 1} that\n",
      "{'Prerequisites': 1, 'Building': 1, 'NumPy': 1, 'requires': 1, 'the': 2, 'following': 1, 'software': 1, 'installed:': 1, 'Python': 1, '3.9.x': 1, 'or': 1, 'newer': 1, 'Please': 1, 'note': 1, 'that': 1} the\n",
      "{'Prerequisites': 1, 'Building': 1, 'NumPy': 1, 'requires': 1, 'the': 2, 'following': 1, 'software': 1, 'installed:': 1, 'Python': 2, '3.9.x': 1, 'or': 1, 'newer': 1, 'Please': 1, 'note': 1, 'that': 1} Python\n",
      "{'Prerequisites': 1, 'Building': 1, 'NumPy': 1, 'requires': 1, 'the': 2, 'following': 1, 'software': 1, 'installed:': 1, 'Python': 2, '3.9.x': 1, 'or': 1, 'newer': 1, 'Please': 1, 'note': 1, 'that': 1, 'development': 1} development\n",
      "{'Prerequisites': 1, 'Building': 1, 'NumPy': 1, 'requires': 1, 'the': 2, 'following': 1, 'software': 1, 'installed:': 1, 'Python': 2, '3.9.x': 1, 'or': 1, 'newer': 1, 'Please': 1, 'note': 1, 'that': 1, 'development': 1, 'headers': 1} headers\n",
      "{'Prerequisites': 1, 'Building': 1, 'NumPy': 1, 'requires': 1, 'the': 2, 'following': 1, 'software': 1, 'installed:': 1, 'Python': 2, '3.9.x': 1, 'or': 1, 'newer': 1, 'Please': 1, 'note': 1, 'that': 1, 'development': 1, 'headers': 1, 'also': 1} also\n",
      "{'Prerequisites': 1, 'Building': 1, 'NumPy': 1, 'requires': 1, 'the': 2, 'following': 1, 'software': 1, 'installed:': 1, 'Python': 2, '3.9.x': 1, 'or': 1, 'newer': 1, 'Please': 1, 'note': 1, 'that': 1, 'development': 1, 'headers': 1, 'also': 1, 'need': 1} need\n",
      "{'Prerequisites': 1, 'Building': 1, 'NumPy': 1, 'requires': 1, 'the': 2, 'following': 1, 'software': 1, 'installed:': 1, 'Python': 2, '3.9.x': 1, 'or': 1, 'newer': 1, 'Please': 1, 'note': 1, 'that': 1, 'development': 1, 'headers': 1, 'also': 1, 'need': 1, 'to': 1} to\n",
      "{'Prerequisites': 1, 'Building': 1, 'NumPy': 1, 'requires': 1, 'the': 2, 'following': 1, 'software': 1, 'installed:': 1, 'Python': 2, '3.9.x': 1, 'or': 1, 'newer': 1, 'Please': 1, 'note': 1, 'that': 1, 'development': 1, 'headers': 1, 'also': 1, 'need': 1, 'to': 1, 'be': 1} be\n",
      "{'Prerequisites': 1, 'Building': 1, 'NumPy': 1, 'requires': 1, 'the': 2, 'following': 1, 'software': 1, 'installed:': 1, 'Python': 2, '3.9.x': 1, 'or': 1, 'newer': 1, 'Please': 1, 'note': 1, 'that': 1, 'development': 1, 'headers': 1, 'also': 1, 'need': 1, 'to': 1, 'be': 1, 'installed,': 1} installed,\n",
      "{'Prerequisites': 1, 'Building': 1, 'NumPy': 1, 'requires': 1, 'the': 2, 'following': 1, 'software': 1, 'installed:': 1, 'Python': 2, '3.9.x': 1, 'or': 1, 'newer': 1, 'Please': 1, 'note': 1, 'that': 1, 'development': 1, 'headers': 1, 'also': 1, 'need': 1, 'to': 1, 'be': 1, 'installed,': 1, 'e.g.,': 1} e.g.,\n",
      "{'Prerequisites': 1, 'Building': 1, 'NumPy': 1, 'requires': 1, 'the': 2, 'following': 1, 'software': 1, 'installed:': 1, 'Python': 2, '3.9.x': 1, 'or': 1, 'newer': 1, 'Please': 1, 'note': 1, 'that': 1, 'development': 1, 'headers': 1, 'also': 1, 'need': 1, 'to': 1, 'be': 1, 'installed,': 1, 'e.g.,': 1, 'on': 1} on\n",
      "{'Prerequisites': 1, 'Building': 1, 'NumPy': 1, 'requires': 1, 'the': 2, 'following': 1, 'software': 1, 'installed:': 1, 'Python': 2, '3.9.x': 1, 'or': 1, 'newer': 1, 'Please': 1, 'note': 1, 'that': 1, 'development': 1, 'headers': 1, 'also': 1, 'need': 1, 'to': 1, 'be': 1, 'installed,': 1, 'e.g.,': 1, 'on': 1, 'Debian/Ubuntu': 1} Debian/Ubuntu\n",
      "{'Prerequisites': 1, 'Building': 1, 'NumPy': 1, 'requires': 1, 'the': 2, 'following': 1, 'software': 1, 'installed:': 1, 'Python': 2, '3.9.x': 1, 'or': 1, 'newer': 1, 'Please': 1, 'note': 1, 'that': 1, 'development': 1, 'headers': 1, 'also': 1, 'need': 1, 'to': 1, 'be': 1, 'installed,': 1, 'e.g.,': 1, 'on': 1, 'Debian/Ubuntu': 1, 'one': 1} one\n",
      "{'Prerequisites': 1, 'Building': 1, 'NumPy': 1, 'requires': 1, 'the': 2, 'following': 1, 'software': 1, 'installed:': 1, 'Python': 2, '3.9.x': 1, 'or': 1, 'newer': 1, 'Please': 1, 'note': 1, 'that': 1, 'development': 1, 'headers': 1, 'also': 1, 'need': 1, 'to': 1, 'be': 1, 'installed,': 1, 'e.g.,': 1, 'on': 1, 'Debian/Ubuntu': 1, 'one': 1, 'needs': 1} needs\n",
      "{'Prerequisites': 1, 'Building': 1, 'NumPy': 1, 'requires': 1, 'the': 2, 'following': 1, 'software': 1, 'installed:': 1, 'Python': 2, '3.9.x': 1, 'or': 1, 'newer': 1, 'Please': 1, 'note': 1, 'that': 1, 'development': 1, 'headers': 1, 'also': 1, 'need': 1, 'to': 2, 'be': 1, 'installed,': 1, 'e.g.,': 1, 'on': 1, 'Debian/Ubuntu': 1, 'one': 1, 'needs': 1} to\n",
      "{'Prerequisites': 1, 'Building': 1, 'NumPy': 1, 'requires': 1, 'the': 2, 'following': 1, 'software': 1, 'installed:': 1, 'Python': 2, '3.9.x': 1, 'or': 1, 'newer': 1, 'Please': 1, 'note': 1, 'that': 1, 'development': 1, 'headers': 1, 'also': 1, 'need': 1, 'to': 2, 'be': 1, 'installed,': 1, 'e.g.,': 1, 'on': 1, 'Debian/Ubuntu': 1, 'one': 1, 'needs': 1, 'install': 1} install\n",
      "{'Prerequisites': 1, 'Building': 1, 'NumPy': 1, 'requires': 1, 'the': 2, 'following': 1, 'software': 1, 'installed:': 1, 'Python': 2, '3.9.x': 1, 'or': 1, 'newer': 1, 'Please': 1, 'note': 1, 'that': 1, 'development': 1, 'headers': 1, 'also': 1, 'need': 1, 'to': 2, 'be': 1, 'installed,': 1, 'e.g.,': 1, 'on': 1, 'Debian/Ubuntu': 1, 'one': 1, 'needs': 1, 'install': 1, 'both': 1} both\n",
      "{'Prerequisites': 1, 'Building': 1, 'NumPy': 1, 'requires': 1, 'the': 2, 'following': 1, 'software': 1, 'installed:': 1, 'Python': 2, '3.9.x': 1, 'or': 1, 'newer': 1, 'Please': 1, 'note': 1, 'that': 1, 'development': 1, 'headers': 1, 'also': 1, 'need': 1, 'to': 2, 'be': 1, 'installed,': 1, 'e.g.,': 1, 'on': 1, 'Debian/Ubuntu': 1, 'one': 1, 'needs': 1, 'install': 1, 'both': 1, 'python3': 1} python3\n",
      "{'Prerequisites': 1, 'Building': 1, 'NumPy': 1, 'requires': 1, 'the': 2, 'following': 1, 'software': 1, 'installed:': 1, 'Python': 2, '3.9.x': 1, 'or': 1, 'newer': 1, 'Please': 1, 'note': 1, 'that': 1, 'development': 1, 'headers': 1, 'also': 1, 'need': 1, 'to': 2, 'be': 1, 'installed,': 1, 'e.g.,': 1, 'on': 1, 'Debian/Ubuntu': 1, 'one': 1, 'needs': 1, 'install': 1, 'both': 1, 'python3': 1, 'and': 1} and\n",
      "{'Prerequisites': 1, 'Building': 1, 'NumPy': 1, 'requires': 1, 'the': 2, 'following': 1, 'software': 1, 'installed:': 1, 'Python': 2, '3.9.x': 1, 'or': 1, 'newer': 1, 'Please': 1, 'note': 1, 'that': 1, 'development': 1, 'headers': 1, 'also': 1, 'need': 1, 'to': 2, 'be': 1, 'installed,': 1, 'e.g.,': 1, 'on': 1, 'Debian/Ubuntu': 1, 'one': 1, 'needs': 1, 'install': 1, 'both': 1, 'python3': 1, 'and': 1, 'python3-dev.': 1} python3-dev.\n",
      "{'Prerequisites': 1, 'Building': 1, 'NumPy': 1, 'requires': 1, 'the': 2, 'following': 1, 'software': 1, 'installed:': 1, 'Python': 2, '3.9.x': 1, 'or': 1, 'newer': 1, 'Please': 1, 'note': 1, 'that': 1, 'development': 1, 'headers': 1, 'also': 1, 'need': 1, 'to': 2, 'be': 1, 'installed,': 1, 'e.g.,': 1, 'on': 1, 'Debian/Ubuntu': 1, 'one': 1, 'needs': 1, 'install': 1, 'both': 1, 'python3': 1, 'and': 1, 'python3-dev.': 1, 'On': 1} On\n",
      "{'Prerequisites': 1, 'Building': 1, 'NumPy': 1, 'requires': 1, 'the': 2, 'following': 1, 'software': 1, 'installed:': 1, 'Python': 2, '3.9.x': 1, 'or': 1, 'newer': 1, 'Please': 1, 'note': 1, 'that': 1, 'development': 1, 'headers': 1, 'also': 1, 'need': 1, 'to': 2, 'be': 1, 'installed,': 1, 'e.g.,': 1, 'on': 1, 'Debian/Ubuntu': 1, 'one': 1, 'needs': 1, 'install': 1, 'both': 1, 'python3': 1, 'and': 1, 'python3-dev.': 1, 'On': 1, 'Windows': 1} Windows\n",
      "{'Prerequisites': 1, 'Building': 1, 'NumPy': 1, 'requires': 1, 'the': 2, 'following': 1, 'software': 1, 'installed:': 1, 'Python': 2, '3.9.x': 1, 'or': 1, 'newer': 1, 'Please': 1, 'note': 1, 'that': 1, 'development': 1, 'headers': 1, 'also': 1, 'need': 1, 'to': 2, 'be': 1, 'installed,': 1, 'e.g.,': 1, 'on': 1, 'Debian/Ubuntu': 1, 'one': 1, 'needs': 1, 'install': 1, 'both': 1, 'python3': 1, 'and': 2, 'python3-dev.': 1, 'On': 1, 'Windows': 1} and\n",
      "{'Prerequisites': 1, 'Building': 1, 'NumPy': 1, 'requires': 1, 'the': 2, 'following': 1, 'software': 1, 'installed:': 1, 'Python': 2, '3.9.x': 1, 'or': 1, 'newer': 1, 'Please': 1, 'note': 1, 'that': 1, 'development': 1, 'headers': 1, 'also': 1, 'need': 1, 'to': 2, 'be': 1, 'installed,': 1, 'e.g.,': 1, 'on': 1, 'Debian/Ubuntu': 1, 'one': 1, 'needs': 1, 'install': 1, 'both': 1, 'python3': 1, 'and': 2, 'python3-dev.': 1, 'On': 1, 'Windows': 1, 'macOS': 1} macOS\n",
      "{'Prerequisites': 1, 'Building': 1, 'NumPy': 1, 'requires': 1, 'the': 2, 'following': 1, 'software': 1, 'installed:': 1, 'Python': 2, '3.9.x': 1, 'or': 1, 'newer': 1, 'Please': 1, 'note': 1, 'that': 1, 'development': 1, 'headers': 1, 'also': 1, 'need': 1, 'to': 2, 'be': 1, 'installed,': 1, 'e.g.,': 1, 'on': 1, 'Debian/Ubuntu': 1, 'one': 1, 'needs': 1, 'install': 1, 'both': 1, 'python3': 1, 'and': 2, 'python3-dev.': 1, 'On': 1, 'Windows': 1, 'macOS': 1, 'this': 1} this\n",
      "{'Prerequisites': 1, 'Building': 1, 'NumPy': 1, 'requires': 1, 'the': 2, 'following': 1, 'software': 1, 'installed:': 1, 'Python': 2, '3.9.x': 1, 'or': 1, 'newer': 1, 'Please': 1, 'note': 1, 'that': 1, 'development': 1, 'headers': 1, 'also': 1, 'need': 1, 'to': 2, 'be': 1, 'installed,': 1, 'e.g.,': 1, 'on': 1, 'Debian/Ubuntu': 1, 'one': 1, 'needs': 1, 'install': 1, 'both': 1, 'python3': 1, 'and': 2, 'python3-dev.': 1, 'On': 1, 'Windows': 1, 'macOS': 1, 'this': 1, 'is': 1} is\n",
      "{'Prerequisites': 1, 'Building': 1, 'NumPy': 1, 'requires': 1, 'the': 2, 'following': 1, 'software': 1, 'installed:': 1, 'Python': 2, '3.9.x': 1, 'or': 1, 'newer': 1, 'Please': 1, 'note': 1, 'that': 1, 'development': 1, 'headers': 1, 'also': 1, 'need': 1, 'to': 2, 'be': 1, 'installed,': 1, 'e.g.,': 1, 'on': 1, 'Debian/Ubuntu': 1, 'one': 1, 'needs': 1, 'install': 1, 'both': 1, 'python3': 1, 'and': 2, 'python3-dev.': 1, 'On': 1, 'Windows': 1, 'macOS': 1, 'this': 1, 'is': 1, 'normally': 1} normally\n",
      "{'Prerequisites': 1, 'Building': 1, 'NumPy': 1, 'requires': 1, 'the': 2, 'following': 1, 'software': 1, 'installed:': 1, 'Python': 2, '3.9.x': 1, 'or': 1, 'newer': 1, 'Please': 1, 'note': 1, 'that': 1, 'development': 1, 'headers': 1, 'also': 1, 'need': 1, 'to': 2, 'be': 1, 'installed,': 1, 'e.g.,': 1, 'on': 1, 'Debian/Ubuntu': 1, 'one': 1, 'needs': 1, 'install': 1, 'both': 1, 'python3': 1, 'and': 2, 'python3-dev.': 1, 'On': 1, 'Windows': 1, 'macOS': 1, 'this': 1, 'is': 1, 'normally': 1, 'not': 1} not\n",
      "{'Prerequisites': 1, 'Building': 1, 'NumPy': 1, 'requires': 1, 'the': 2, 'following': 1, 'software': 1, 'installed:': 1, 'Python': 2, '3.9.x': 1, 'or': 1, 'newer': 1, 'Please': 1, 'note': 1, 'that': 1, 'development': 1, 'headers': 1, 'also': 1, 'need': 1, 'to': 2, 'be': 1, 'installed,': 1, 'e.g.,': 1, 'on': 1, 'Debian/Ubuntu': 1, 'one': 1, 'needs': 1, 'install': 1, 'both': 1, 'python3': 1, 'and': 2, 'python3-dev.': 1, 'On': 1, 'Windows': 1, 'macOS': 1, 'this': 1, 'is': 1, 'normally': 1, 'not': 1, 'an': 1} an\n",
      "{'Prerequisites': 1, 'Building': 1, 'NumPy': 1, 'requires': 1, 'the': 2, 'following': 1, 'software': 1, 'installed:': 1, 'Python': 2, '3.9.x': 1, 'or': 1, 'newer': 1, 'Please': 1, 'note': 1, 'that': 1, 'development': 1, 'headers': 1, 'also': 1, 'need': 1, 'to': 2, 'be': 1, 'installed,': 1, 'e.g.,': 1, 'on': 1, 'Debian/Ubuntu': 1, 'one': 1, 'needs': 1, 'install': 1, 'both': 1, 'python3': 1, 'and': 2, 'python3-dev.': 1, 'On': 1, 'Windows': 1, 'macOS': 1, 'this': 1, 'is': 1, 'normally': 1, 'not': 1, 'an': 1, 'issue.': 1} issue.\n",
      "{'Prerequisites': 1, 'Building': 1, 'NumPy': 1, 'requires': 1, 'the': 2, 'following': 1, 'software': 1, 'installed:': 1, 'Python': 2, '3.9.x': 1, 'or': 1, 'newer': 1, 'Please': 1, 'note': 1, 'that': 1, 'development': 1, 'headers': 1, 'also': 1, 'need': 1, 'to': 2, 'be': 1, 'installed,': 1, 'e.g.,': 1, 'on': 1, 'Debian/Ubuntu': 1, 'one': 1, 'needs': 1, 'install': 1, 'both': 1, 'python3': 1, 'and': 2, 'python3-dev.': 1, 'On': 1, 'Windows': 1, 'macOS': 1, 'this': 1, 'is': 1, 'normally': 1, 'not': 1, 'an': 1, 'issue.': 1, 'Compilers': 1} Compilers\n",
      "{'Prerequisites': 1, 'Building': 1, 'NumPy': 1, 'requires': 1, 'the': 2, 'following': 1, 'software': 1, 'installed:': 1, 'Python': 2, '3.9.x': 1, 'or': 1, 'newer': 1, 'Please': 1, 'note': 1, 'that': 1, 'development': 1, 'headers': 1, 'also': 1, 'need': 1, 'to': 2, 'be': 1, 'installed,': 1, 'e.g.,': 1, 'on': 1, 'Debian/Ubuntu': 1, 'one': 1, 'needs': 1, 'install': 1, 'both': 1, 'python3': 1, 'and': 2, 'python3-dev.': 1, 'On': 1, 'Windows': 1, 'macOS': 1, 'this': 1, 'is': 1, 'normally': 1, 'not': 1, 'an': 1, 'issue.': 1, 'Compilers': 1, 'Much': 1} Much\n",
      "{'Prerequisites': 1, 'Building': 1, 'NumPy': 1, 'requires': 1, 'the': 2, 'following': 1, 'software': 1, 'installed:': 1, 'Python': 2, '3.9.x': 1, 'or': 1, 'newer': 1, 'Please': 1, 'note': 1, 'that': 1, 'development': 1, 'headers': 1, 'also': 1, 'need': 1, 'to': 2, 'be': 1, 'installed,': 1, 'e.g.,': 1, 'on': 1, 'Debian/Ubuntu': 1, 'one': 1, 'needs': 1, 'install': 1, 'both': 1, 'python3': 1, 'and': 2, 'python3-dev.': 1, 'On': 1, 'Windows': 1, 'macOS': 1, 'this': 1, 'is': 1, 'normally': 1, 'not': 1, 'an': 1, 'issue.': 1, 'Compilers': 1, 'Much': 1, 'of': 1} of\n",
      "{'Prerequisites': 1, 'Building': 1, 'NumPy': 2, 'requires': 1, 'the': 2, 'following': 1, 'software': 1, 'installed:': 1, 'Python': 2, '3.9.x': 1, 'or': 1, 'newer': 1, 'Please': 1, 'note': 1, 'that': 1, 'development': 1, 'headers': 1, 'also': 1, 'need': 1, 'to': 2, 'be': 1, 'installed,': 1, 'e.g.,': 1, 'on': 1, 'Debian/Ubuntu': 1, 'one': 1, 'needs': 1, 'install': 1, 'both': 1, 'python3': 1, 'and': 2, 'python3-dev.': 1, 'On': 1, 'Windows': 1, 'macOS': 1, 'this': 1, 'is': 1, 'normally': 1, 'not': 1, 'an': 1, 'issue.': 1, 'Compilers': 1, 'Much': 1, 'of': 1} NumPy\n",
      "{'Prerequisites': 1, 'Building': 1, 'NumPy': 2, 'requires': 1, 'the': 2, 'following': 1, 'software': 1, 'installed:': 1, 'Python': 2, '3.9.x': 1, 'or': 1, 'newer': 1, 'Please': 1, 'note': 1, 'that': 1, 'development': 1, 'headers': 1, 'also': 1, 'need': 1, 'to': 2, 'be': 1, 'installed,': 1, 'e.g.,': 1, 'on': 1, 'Debian/Ubuntu': 1, 'one': 1, 'needs': 1, 'install': 1, 'both': 1, 'python3': 1, 'and': 2, 'python3-dev.': 1, 'On': 1, 'Windows': 1, 'macOS': 1, 'this': 1, 'is': 2, 'normally': 1, 'not': 1, 'an': 1, 'issue.': 1, 'Compilers': 1, 'Much': 1, 'of': 1} is\n",
      "{'Prerequisites': 1, 'Building': 1, 'NumPy': 2, 'requires': 1, 'the': 2, 'following': 1, 'software': 1, 'installed:': 1, 'Python': 2, '3.9.x': 1, 'or': 1, 'newer': 1, 'Please': 1, 'note': 1, 'that': 1, 'development': 1, 'headers': 1, 'also': 1, 'need': 1, 'to': 2, 'be': 1, 'installed,': 1, 'e.g.,': 1, 'on': 1, 'Debian/Ubuntu': 1, 'one': 1, 'needs': 1, 'install': 1, 'both': 1, 'python3': 1, 'and': 2, 'python3-dev.': 1, 'On': 1, 'Windows': 1, 'macOS': 1, 'this': 1, 'is': 2, 'normally': 1, 'not': 1, 'an': 1, 'issue.': 1, 'Compilers': 1, 'Much': 1, 'of': 1, 'written': 1} written\n",
      "{'Prerequisites': 1, 'Building': 1, 'NumPy': 2, 'requires': 1, 'the': 2, 'following': 1, 'software': 1, 'installed:': 1, 'Python': 2, '3.9.x': 1, 'or': 1, 'newer': 1, 'Please': 1, 'note': 1, 'that': 1, 'development': 1, 'headers': 1, 'also': 1, 'need': 1, 'to': 2, 'be': 1, 'installed,': 1, 'e.g.,': 1, 'on': 1, 'Debian/Ubuntu': 1, 'one': 1, 'needs': 1, 'install': 1, 'both': 1, 'python3': 1, 'and': 2, 'python3-dev.': 1, 'On': 1, 'Windows': 1, 'macOS': 1, 'this': 1, 'is': 2, 'normally': 1, 'not': 1, 'an': 1, 'issue.': 1, 'Compilers': 1, 'Much': 1, 'of': 1, 'written': 1, 'in': 1} in\n",
      "{'Prerequisites': 1, 'Building': 1, 'NumPy': 2, 'requires': 1, 'the': 2, 'following': 1, 'software': 1, 'installed:': 1, 'Python': 2, '3.9.x': 1, 'or': 1, 'newer': 1, 'Please': 1, 'note': 1, 'that': 1, 'development': 1, 'headers': 1, 'also': 1, 'need': 1, 'to': 2, 'be': 1, 'installed,': 1, 'e.g.,': 1, 'on': 1, 'Debian/Ubuntu': 1, 'one': 1, 'needs': 1, 'install': 1, 'both': 1, 'python3': 1, 'and': 2, 'python3-dev.': 1, 'On': 1, 'Windows': 1, 'macOS': 1, 'this': 1, 'is': 2, 'normally': 1, 'not': 1, 'an': 1, 'issue.': 1, 'Compilers': 1, 'Much': 1, 'of': 1, 'written': 1, 'in': 1, 'C': 1} C\n",
      "{'Prerequisites': 1, 'Building': 1, 'NumPy': 2, 'requires': 1, 'the': 2, 'following': 1, 'software': 1, 'installed:': 1, 'Python': 2, '3.9.x': 1, 'or': 1, 'newer': 1, 'Please': 1, 'note': 1, 'that': 1, 'development': 1, 'headers': 1, 'also': 1, 'need': 1, 'to': 2, 'be': 1, 'installed,': 1, 'e.g.,': 1, 'on': 1, 'Debian/Ubuntu': 1, 'one': 1, 'needs': 1, 'install': 1, 'both': 1, 'python3': 1, 'and': 3, 'python3-dev.': 1, 'On': 1, 'Windows': 1, 'macOS': 1, 'this': 1, 'is': 2, 'normally': 1, 'not': 1, 'an': 1, 'issue.': 1, 'Compilers': 1, 'Much': 1, 'of': 1, 'written': 1, 'in': 1, 'C': 1} and\n",
      "{'Prerequisites': 1, 'Building': 1, 'NumPy': 2, 'requires': 1, 'the': 2, 'following': 1, 'software': 1, 'installed:': 1, 'Python': 2, '3.9.x': 1, 'or': 1, 'newer': 1, 'Please': 1, 'note': 1, 'that': 1, 'development': 1, 'headers': 1, 'also': 1, 'need': 1, 'to': 2, 'be': 1, 'installed,': 1, 'e.g.,': 1, 'on': 1, 'Debian/Ubuntu': 1, 'one': 1, 'needs': 1, 'install': 1, 'both': 1, 'python3': 1, 'and': 3, 'python3-dev.': 1, 'On': 1, 'Windows': 1, 'macOS': 1, 'this': 1, 'is': 2, 'normally': 1, 'not': 1, 'an': 1, 'issue.': 1, 'Compilers': 1, 'Much': 1, 'of': 1, 'written': 1, 'in': 1, 'C': 1, 'C++.': 1} C++.\n",
      "{'Prerequisites': 1, 'Building': 1, 'NumPy': 2, 'requires': 1, 'the': 2, 'following': 1, 'software': 1, 'installed:': 1, 'Python': 2, '3.9.x': 1, 'or': 1, 'newer': 1, 'Please': 1, 'note': 1, 'that': 1, 'development': 1, 'headers': 1, 'also': 1, 'need': 1, 'to': 2, 'be': 1, 'installed,': 1, 'e.g.,': 1, 'on': 1, 'Debian/Ubuntu': 1, 'one': 1, 'needs': 1, 'install': 1, 'both': 1, 'python3': 1, 'and': 3, 'python3-dev.': 1, 'On': 1, 'Windows': 1, 'macOS': 1, 'this': 1, 'is': 2, 'normally': 1, 'not': 1, 'an': 1, 'issue.': 1, 'Compilers': 1, 'Much': 1, 'of': 1, 'written': 1, 'in': 1, 'C': 1, 'C++.': 1, 'You': 1} You\n",
      "{'Prerequisites': 1, 'Building': 1, 'NumPy': 2, 'requires': 1, 'the': 2, 'following': 1, 'software': 1, 'installed:': 1, 'Python': 2, '3.9.x': 1, 'or': 1, 'newer': 1, 'Please': 1, 'note': 1, 'that': 1, 'development': 1, 'headers': 1, 'also': 1, 'need': 1, 'to': 2, 'be': 1, 'installed,': 1, 'e.g.,': 1, 'on': 1, 'Debian/Ubuntu': 1, 'one': 1, 'needs': 1, 'install': 1, 'both': 1, 'python3': 1, 'and': 3, 'python3-dev.': 1, 'On': 1, 'Windows': 1, 'macOS': 1, 'this': 1, 'is': 2, 'normally': 1, 'not': 1, 'an': 1, 'issue.': 1, 'Compilers': 1, 'Much': 1, 'of': 1, 'written': 1, 'in': 1, 'C': 1, 'C++.': 1, 'You': 1, 'will': 1} will\n",
      "{'Prerequisites': 1, 'Building': 1, 'NumPy': 2, 'requires': 1, 'the': 2, 'following': 1, 'software': 1, 'installed:': 1, 'Python': 2, '3.9.x': 1, 'or': 1, 'newer': 1, 'Please': 1, 'note': 1, 'that': 1, 'development': 1, 'headers': 1, 'also': 1, 'need': 2, 'to': 2, 'be': 1, 'installed,': 1, 'e.g.,': 1, 'on': 1, 'Debian/Ubuntu': 1, 'one': 1, 'needs': 1, 'install': 1, 'both': 1, 'python3': 1, 'and': 3, 'python3-dev.': 1, 'On': 1, 'Windows': 1, 'macOS': 1, 'this': 1, 'is': 2, 'normally': 1, 'not': 1, 'an': 1, 'issue.': 1, 'Compilers': 1, 'Much': 1, 'of': 1, 'written': 1, 'in': 1, 'C': 1, 'C++.': 1, 'You': 1, 'will': 1} need\n",
      "{'Prerequisites': 1, 'Building': 1, 'NumPy': 2, 'requires': 1, 'the': 2, 'following': 1, 'software': 1, 'installed:': 1, 'Python': 2, '3.9.x': 1, 'or': 1, 'newer': 1, 'Please': 1, 'note': 1, 'that': 1, 'development': 1, 'headers': 1, 'also': 1, 'need': 2, 'to': 2, 'be': 1, 'installed,': 1, 'e.g.,': 1, 'on': 1, 'Debian/Ubuntu': 1, 'one': 1, 'needs': 1, 'install': 1, 'both': 1, 'python3': 1, 'and': 3, 'python3-dev.': 1, 'On': 1, 'Windows': 1, 'macOS': 1, 'this': 1, 'is': 2, 'normally': 1, 'not': 1, 'an': 1, 'issue.': 1, 'Compilers': 1, 'Much': 1, 'of': 1, 'written': 1, 'in': 1, 'C': 1, 'C++.': 1, 'You': 1, 'will': 1, 'a': 1} a\n",
      "{'Prerequisites': 1, 'Building': 1, 'NumPy': 2, 'requires': 1, 'the': 2, 'following': 1, 'software': 1, 'installed:': 1, 'Python': 2, '3.9.x': 1, 'or': 1, 'newer': 1, 'Please': 1, 'note': 1, 'that': 1, 'development': 1, 'headers': 1, 'also': 1, 'need': 2, 'to': 2, 'be': 1, 'installed,': 1, 'e.g.,': 1, 'on': 1, 'Debian/Ubuntu': 1, 'one': 1, 'needs': 1, 'install': 1, 'both': 1, 'python3': 1, 'and': 3, 'python3-dev.': 1, 'On': 1, 'Windows': 1, 'macOS': 1, 'this': 1, 'is': 2, 'normally': 1, 'not': 1, 'an': 1, 'issue.': 1, 'Compilers': 1, 'Much': 1, 'of': 1, 'written': 1, 'in': 1, 'C': 2, 'C++.': 1, 'You': 1, 'will': 1, 'a': 1} C\n",
      "{'Prerequisites': 1, 'Building': 1, 'NumPy': 2, 'requires': 1, 'the': 2, 'following': 1, 'software': 1, 'installed:': 1, 'Python': 2, '3.9.x': 1, 'or': 1, 'newer': 1, 'Please': 1, 'note': 1, 'that': 1, 'development': 1, 'headers': 1, 'also': 1, 'need': 2, 'to': 2, 'be': 1, 'installed,': 1, 'e.g.,': 1, 'on': 1, 'Debian/Ubuntu': 1, 'one': 1, 'needs': 1, 'install': 1, 'both': 1, 'python3': 1, 'and': 3, 'python3-dev.': 1, 'On': 1, 'Windows': 1, 'macOS': 1, 'this': 1, 'is': 2, 'normally': 1, 'not': 1, 'an': 1, 'issue.': 1, 'Compilers': 1, 'Much': 1, 'of': 1, 'written': 1, 'in': 1, 'C': 2, 'C++.': 1, 'You': 1, 'will': 1, 'a': 1, 'compiler': 1} compiler\n",
      "{'Prerequisites': 1, 'Building': 1, 'NumPy': 2, 'requires': 1, 'the': 2, 'following': 1, 'software': 1, 'installed:': 1, 'Python': 2, '3.9.x': 1, 'or': 1, 'newer': 1, 'Please': 1, 'note': 1, 'that': 2, 'development': 1, 'headers': 1, 'also': 1, 'need': 2, 'to': 2, 'be': 1, 'installed,': 1, 'e.g.,': 1, 'on': 1, 'Debian/Ubuntu': 1, 'one': 1, 'needs': 1, 'install': 1, 'both': 1, 'python3': 1, 'and': 3, 'python3-dev.': 1, 'On': 1, 'Windows': 1, 'macOS': 1, 'this': 1, 'is': 2, 'normally': 1, 'not': 1, 'an': 1, 'issue.': 1, 'Compilers': 1, 'Much': 1, 'of': 1, 'written': 1, 'in': 1, 'C': 2, 'C++.': 1, 'You': 1, 'will': 1, 'a': 1, 'compiler': 1} that\n",
      "{'Prerequisites': 1, 'Building': 1, 'NumPy': 2, 'requires': 1, 'the': 2, 'following': 1, 'software': 1, 'installed:': 1, 'Python': 2, '3.9.x': 1, 'or': 1, 'newer': 1, 'Please': 1, 'note': 1, 'that': 2, 'development': 1, 'headers': 1, 'also': 1, 'need': 2, 'to': 2, 'be': 1, 'installed,': 1, 'e.g.,': 1, 'on': 1, 'Debian/Ubuntu': 1, 'one': 1, 'needs': 1, 'install': 1, 'both': 1, 'python3': 1, 'and': 3, 'python3-dev.': 1, 'On': 1, 'Windows': 1, 'macOS': 1, 'this': 1, 'is': 2, 'normally': 1, 'not': 1, 'an': 1, 'issue.': 1, 'Compilers': 1, 'Much': 1, 'of': 1, 'written': 1, 'in': 1, 'C': 2, 'C++.': 1, 'You': 1, 'will': 1, 'a': 1, 'compiler': 1, 'complies': 1} complies\n",
      "{'Prerequisites': 1, 'Building': 1, 'NumPy': 2, 'requires': 1, 'the': 2, 'following': 1, 'software': 1, 'installed:': 1, 'Python': 2, '3.9.x': 1, 'or': 1, 'newer': 1, 'Please': 1, 'note': 1, 'that': 2, 'development': 1, 'headers': 1, 'also': 1, 'need': 2, 'to': 2, 'be': 1, 'installed,': 1, 'e.g.,': 1, 'on': 1, 'Debian/Ubuntu': 1, 'one': 1, 'needs': 1, 'install': 1, 'both': 1, 'python3': 1, 'and': 3, 'python3-dev.': 1, 'On': 1, 'Windows': 1, 'macOS': 1, 'this': 1, 'is': 2, 'normally': 1, 'not': 1, 'an': 1, 'issue.': 1, 'Compilers': 1, 'Much': 1, 'of': 1, 'written': 1, 'in': 1, 'C': 2, 'C++.': 1, 'You': 1, 'will': 1, 'a': 1, 'compiler': 1, 'complies': 1, 'with': 1} with\n",
      "{'Prerequisites': 1, 'Building': 1, 'NumPy': 2, 'requires': 1, 'the': 3, 'following': 1, 'software': 1, 'installed:': 1, 'Python': 2, '3.9.x': 1, 'or': 1, 'newer': 1, 'Please': 1, 'note': 1, 'that': 2, 'development': 1, 'headers': 1, 'also': 1, 'need': 2, 'to': 2, 'be': 1, 'installed,': 1, 'e.g.,': 1, 'on': 1, 'Debian/Ubuntu': 1, 'one': 1, 'needs': 1, 'install': 1, 'both': 1, 'python3': 1, 'and': 3, 'python3-dev.': 1, 'On': 1, 'Windows': 1, 'macOS': 1, 'this': 1, 'is': 2, 'normally': 1, 'not': 1, 'an': 1, 'issue.': 1, 'Compilers': 1, 'Much': 1, 'of': 1, 'written': 1, 'in': 1, 'C': 2, 'C++.': 1, 'You': 1, 'will': 1, 'a': 1, 'compiler': 1, 'complies': 1, 'with': 1} the\n",
      "{'Prerequisites': 1, 'Building': 1, 'NumPy': 2, 'requires': 1, 'the': 3, 'following': 1, 'software': 1, 'installed:': 1, 'Python': 2, '3.9.x': 1, 'or': 1, 'newer': 1, 'Please': 1, 'note': 1, 'that': 2, 'development': 1, 'headers': 1, 'also': 1, 'need': 2, 'to': 2, 'be': 1, 'installed,': 1, 'e.g.,': 1, 'on': 1, 'Debian/Ubuntu': 1, 'one': 1, 'needs': 1, 'install': 1, 'both': 1, 'python3': 1, 'and': 3, 'python3-dev.': 1, 'On': 1, 'Windows': 1, 'macOS': 1, 'this': 1, 'is': 2, 'normally': 1, 'not': 1, 'an': 1, 'issue.': 1, 'Compilers': 1, 'Much': 1, 'of': 1, 'written': 1, 'in': 1, 'C': 2, 'C++.': 1, 'You': 1, 'will': 1, 'a': 1, 'compiler': 1, 'complies': 1, 'with': 1, 'C99': 1} C99\n",
      "{'Prerequisites': 1, 'Building': 1, 'NumPy': 2, 'requires': 1, 'the': 3, 'following': 1, 'software': 1, 'installed:': 1, 'Python': 2, '3.9.x': 1, 'or': 1, 'newer': 1, 'Please': 1, 'note': 1, 'that': 2, 'development': 1, 'headers': 1, 'also': 1, 'need': 2, 'to': 2, 'be': 1, 'installed,': 1, 'e.g.,': 1, 'on': 1, 'Debian/Ubuntu': 1, 'one': 1, 'needs': 1, 'install': 1, 'both': 1, 'python3': 1, 'and': 3, 'python3-dev.': 1, 'On': 1, 'Windows': 1, 'macOS': 1, 'this': 1, 'is': 2, 'normally': 1, 'not': 1, 'an': 1, 'issue.': 1, 'Compilers': 1, 'Much': 1, 'of': 1, 'written': 1, 'in': 1, 'C': 2, 'C++.': 1, 'You': 1, 'will': 1, 'a': 1, 'compiler': 1, 'complies': 1, 'with': 1, 'C99': 1, 'standard,': 1} standard,\n",
      "{'Prerequisites': 1, 'Building': 1, 'NumPy': 2, 'requires': 1, 'the': 3, 'following': 1, 'software': 1, 'installed:': 1, 'Python': 2, '3.9.x': 1, 'or': 1, 'newer': 1, 'Please': 1, 'note': 1, 'that': 2, 'development': 1, 'headers': 1, 'also': 1, 'need': 2, 'to': 2, 'be': 1, 'installed,': 1, 'e.g.,': 1, 'on': 1, 'Debian/Ubuntu': 1, 'one': 1, 'needs': 1, 'install': 1, 'both': 1, 'python3': 1, 'and': 4, 'python3-dev.': 1, 'On': 1, 'Windows': 1, 'macOS': 1, 'this': 1, 'is': 2, 'normally': 1, 'not': 1, 'an': 1, 'issue.': 1, 'Compilers': 1, 'Much': 1, 'of': 1, 'written': 1, 'in': 1, 'C': 2, 'C++.': 1, 'You': 1, 'will': 1, 'a': 1, 'compiler': 1, 'complies': 1, 'with': 1, 'C99': 1, 'standard,': 1} and\n",
      "{'Prerequisites': 1, 'Building': 1, 'NumPy': 2, 'requires': 1, 'the': 3, 'following': 1, 'software': 1, 'installed:': 1, 'Python': 2, '3.9.x': 1, 'or': 1, 'newer': 1, 'Please': 1, 'note': 1, 'that': 2, 'development': 1, 'headers': 1, 'also': 1, 'need': 2, 'to': 2, 'be': 1, 'installed,': 1, 'e.g.,': 1, 'on': 1, 'Debian/Ubuntu': 1, 'one': 1, 'needs': 1, 'install': 1, 'both': 1, 'python3': 1, 'and': 4, 'python3-dev.': 1, 'On': 1, 'Windows': 1, 'macOS': 1, 'this': 1, 'is': 2, 'normally': 1, 'not': 1, 'an': 1, 'issue.': 1, 'Compilers': 1, 'Much': 1, 'of': 1, 'written': 1, 'in': 1, 'C': 2, 'C++.': 1, 'You': 1, 'will': 1, 'a': 2, 'compiler': 1, 'complies': 1, 'with': 1, 'C99': 1, 'standard,': 1} a\n",
      "{'Prerequisites': 1, 'Building': 1, 'NumPy': 2, 'requires': 1, 'the': 3, 'following': 1, 'software': 1, 'installed:': 1, 'Python': 2, '3.9.x': 1, 'or': 1, 'newer': 1, 'Please': 1, 'note': 1, 'that': 2, 'development': 1, 'headers': 1, 'also': 1, 'need': 2, 'to': 2, 'be': 1, 'installed,': 1, 'e.g.,': 1, 'on': 1, 'Debian/Ubuntu': 1, 'one': 1, 'needs': 1, 'install': 1, 'both': 1, 'python3': 1, 'and': 4, 'python3-dev.': 1, 'On': 1, 'Windows': 1, 'macOS': 1, 'this': 1, 'is': 2, 'normally': 1, 'not': 1, 'an': 1, 'issue.': 1, 'Compilers': 1, 'Much': 1, 'of': 1, 'written': 1, 'in': 1, 'C': 2, 'C++.': 1, 'You': 1, 'will': 1, 'a': 2, 'compiler': 1, 'complies': 1, 'with': 1, 'C99': 1, 'standard,': 1, 'C++': 1} C++\n",
      "{'Prerequisites': 1, 'Building': 1, 'NumPy': 2, 'requires': 1, 'the': 3, 'following': 1, 'software': 1, 'installed:': 1, 'Python': 2, '3.9.x': 1, 'or': 1, 'newer': 1, 'Please': 1, 'note': 1, 'that': 2, 'development': 1, 'headers': 1, 'also': 1, 'need': 2, 'to': 2, 'be': 1, 'installed,': 1, 'e.g.,': 1, 'on': 1, 'Debian/Ubuntu': 1, 'one': 1, 'needs': 1, 'install': 1, 'both': 1, 'python3': 1, 'and': 4, 'python3-dev.': 1, 'On': 1, 'Windows': 1, 'macOS': 1, 'this': 1, 'is': 2, 'normally': 1, 'not': 1, 'an': 1, 'issue.': 1, 'Compilers': 1, 'Much': 1, 'of': 1, 'written': 1, 'in': 1, 'C': 2, 'C++.': 1, 'You': 1, 'will': 1, 'a': 2, 'compiler': 2, 'complies': 1, 'with': 1, 'C99': 1, 'standard,': 1, 'C++': 1} compiler\n",
      "{'Prerequisites': 1, 'Building': 1, 'NumPy': 2, 'requires': 1, 'the': 3, 'following': 1, 'software': 1, 'installed:': 1, 'Python': 2, '3.9.x': 1, 'or': 1, 'newer': 1, 'Please': 1, 'note': 1, 'that': 3, 'development': 1, 'headers': 1, 'also': 1, 'need': 2, 'to': 2, 'be': 1, 'installed,': 1, 'e.g.,': 1, 'on': 1, 'Debian/Ubuntu': 1, 'one': 1, 'needs': 1, 'install': 1, 'both': 1, 'python3': 1, 'and': 4, 'python3-dev.': 1, 'On': 1, 'Windows': 1, 'macOS': 1, 'this': 1, 'is': 2, 'normally': 1, 'not': 1, 'an': 1, 'issue.': 1, 'Compilers': 1, 'Much': 1, 'of': 1, 'written': 1, 'in': 1, 'C': 2, 'C++.': 1, 'You': 1, 'will': 1, 'a': 2, 'compiler': 2, 'complies': 1, 'with': 1, 'C99': 1, 'standard,': 1, 'C++': 1} that\n",
      "{'Prerequisites': 1, 'Building': 1, 'NumPy': 2, 'requires': 1, 'the': 3, 'following': 1, 'software': 1, 'installed:': 1, 'Python': 2, '3.9.x': 1, 'or': 1, 'newer': 1, 'Please': 1, 'note': 1, 'that': 3, 'development': 1, 'headers': 1, 'also': 1, 'need': 2, 'to': 2, 'be': 1, 'installed,': 1, 'e.g.,': 1, 'on': 1, 'Debian/Ubuntu': 1, 'one': 1, 'needs': 1, 'install': 1, 'both': 1, 'python3': 1, 'and': 4, 'python3-dev.': 1, 'On': 1, 'Windows': 1, 'macOS': 1, 'this': 1, 'is': 2, 'normally': 1, 'not': 1, 'an': 1, 'issue.': 1, 'Compilers': 1, 'Much': 1, 'of': 1, 'written': 1, 'in': 1, 'C': 2, 'C++.': 1, 'You': 1, 'will': 1, 'a': 2, 'compiler': 2, 'complies': 2, 'with': 1, 'C99': 1, 'standard,': 1, 'C++': 1} complies\n",
      "{'Prerequisites': 1, 'Building': 1, 'NumPy': 2, 'requires': 1, 'the': 3, 'following': 1, 'software': 1, 'installed:': 1, 'Python': 2, '3.9.x': 1, 'or': 1, 'newer': 1, 'Please': 1, 'note': 1, 'that': 3, 'development': 1, 'headers': 1, 'also': 1, 'need': 2, 'to': 2, 'be': 1, 'installed,': 1, 'e.g.,': 1, 'on': 1, 'Debian/Ubuntu': 1, 'one': 1, 'needs': 1, 'install': 1, 'both': 1, 'python3': 1, 'and': 4, 'python3-dev.': 1, 'On': 1, 'Windows': 1, 'macOS': 1, 'this': 1, 'is': 2, 'normally': 1, 'not': 1, 'an': 1, 'issue.': 1, 'Compilers': 1, 'Much': 1, 'of': 1, 'written': 1, 'in': 1, 'C': 2, 'C++.': 1, 'You': 1, 'will': 1, 'a': 2, 'compiler': 2, 'complies': 2, 'with': 2, 'C99': 1, 'standard,': 1, 'C++': 1} with\n",
      "{'Prerequisites': 1, 'Building': 1, 'NumPy': 2, 'requires': 1, 'the': 4, 'following': 1, 'software': 1, 'installed:': 1, 'Python': 2, '3.9.x': 1, 'or': 1, 'newer': 1, 'Please': 1, 'note': 1, 'that': 3, 'development': 1, 'headers': 1, 'also': 1, 'need': 2, 'to': 2, 'be': 1, 'installed,': 1, 'e.g.,': 1, 'on': 1, 'Debian/Ubuntu': 1, 'one': 1, 'needs': 1, 'install': 1, 'both': 1, 'python3': 1, 'and': 4, 'python3-dev.': 1, 'On': 1, 'Windows': 1, 'macOS': 1, 'this': 1, 'is': 2, 'normally': 1, 'not': 1, 'an': 1, 'issue.': 1, 'Compilers': 1, 'Much': 1, 'of': 1, 'written': 1, 'in': 1, 'C': 2, 'C++.': 1, 'You': 1, 'will': 1, 'a': 2, 'compiler': 2, 'complies': 2, 'with': 2, 'C99': 1, 'standard,': 1, 'C++': 1} the\n",
      "{'Prerequisites': 1, 'Building': 1, 'NumPy': 2, 'requires': 1, 'the': 4, 'following': 1, 'software': 1, 'installed:': 1, 'Python': 2, '3.9.x': 1, 'or': 1, 'newer': 1, 'Please': 1, 'note': 1, 'that': 3, 'development': 1, 'headers': 1, 'also': 1, 'need': 2, 'to': 2, 'be': 1, 'installed,': 1, 'e.g.,': 1, 'on': 1, 'Debian/Ubuntu': 1, 'one': 1, 'needs': 1, 'install': 1, 'both': 1, 'python3': 1, 'and': 4, 'python3-dev.': 1, 'On': 1, 'Windows': 1, 'macOS': 1, 'this': 1, 'is': 2, 'normally': 1, 'not': 1, 'an': 1, 'issue.': 1, 'Compilers': 1, 'Much': 1, 'of': 1, 'written': 1, 'in': 1, 'C': 2, 'C++.': 1, 'You': 1, 'will': 1, 'a': 2, 'compiler': 2, 'complies': 2, 'with': 2, 'C99': 1, 'standard,': 1, 'C++': 1, 'C++17': 1} C++17\n",
      "{'Prerequisites': 1, 'Building': 1, 'NumPy': 2, 'requires': 1, 'the': 4, 'following': 1, 'software': 1, 'installed:': 1, 'Python': 2, '3.9.x': 1, 'or': 1, 'newer': 1, 'Please': 1, 'note': 1, 'that': 3, 'development': 1, 'headers': 1, 'also': 1, 'need': 2, 'to': 2, 'be': 1, 'installed,': 1, 'e.g.,': 1, 'on': 1, 'Debian/Ubuntu': 1, 'one': 1, 'needs': 1, 'install': 1, 'both': 1, 'python3': 1, 'and': 4, 'python3-dev.': 1, 'On': 1, 'Windows': 1, 'macOS': 1, 'this': 1, 'is': 2, 'normally': 1, 'not': 1, 'an': 1, 'issue.': 1, 'Compilers': 1, 'Much': 1, 'of': 1, 'written': 1, 'in': 1, 'C': 2, 'C++.': 1, 'You': 1, 'will': 1, 'a': 2, 'compiler': 2, 'complies': 2, 'with': 2, 'C99': 1, 'standard,': 1, 'C++': 1, 'C++17': 1, 'standard.': 1} standard.\n",
      "the 4\n",
      "and 4\n",
      "that 3\n",
      "with 2\n",
      "to 2\n",
      "need 2\n",
      "is 2\n",
      "complies 2\n",
      "compiler 2\n",
      "a 2\n"
     ]
    }
   ],
   "source": [
    "name = input('Enter file: ')\n",
    "try:\n",
    "    handle = open(name, 'r')\n",
    "except FileNotFoundError:\n",
    "    print('File not found')\n",
    "    exit()\n",
    "counts = dict()\n",
    "for line in handle: # read each line in the file\n",
    "    words = line.split() # split each line in list of each words\n",
    "    for word in words: # go through each word in the list\n",
    "        counts[word] = counts.get(word, 0) + 1 # count each word and add it to the dictionary \n",
    "        print(counts, word)\n",
    "lst = list()\n",
    "\n",
    "for k, v in counts.items(): # become dictionary in a list of tuples\n",
    "    newtup = (v, k) # change the order between key and value\n",
    "    lst.append(newtup) # add each tuple to the list\n",
    "\n",
    "lst = sorted(lst, reverse=True) # sort the list of tuple in descending order\n",
    "for val, key in lst[:10]: # looop throught the first 10 tuples\n",
    "    print(key, val) # print the first 10 tuples\n"
   ]
  },
  {
   "cell_type": "markdown",
   "metadata": {},
   "source": [
    "# Sliding inside the string\n",
    "with the index we can select one o more letter"
   ]
  },
  {
   "cell_type": "code",
   "execution_count": null,
   "metadata": {},
   "outputs": [],
   "source": [
    "# Banana\n",
    "# 012345\n",
    "# fruit[]\n",
    "# fruit[iNDEX]\n",
    "fruit = 'banana'\n",
    "letter = fruit[0]\n",
    "print(letter)\n",
    "x = 3 \n",
    "w = fruit[x - 1]\n",
    "d = len(fruit) # len function returns the length of the string\n",
    "print(d)\n",
    "print(w)\n"
   ]
  },
  {
   "cell_type": "code",
   "execution_count": null,
   "metadata": {},
   "outputs": [],
   "source": [
    "fruits = 'banana'\n",
    "index = 0\n",
    "while index < len(fruits):\n",
    "    letter = fruits[index]\n",
    "    print(index, letter)\n",
    "    index += 1\n",
    "# using for loop\n",
    "fruits = 'banana'\n",
    "for letter in fruits:\n",
    "    print(letter)\n",
    "# using while loop  \n",
    "index = 0\n",
    "while index < len(fruits):\n",
    "    letter = fruits[index]\n",
    "    print( letter)\n",
    "    index += 1 \n"
   ]
  },
  {
   "cell_type": "markdown",
   "metadata": {},
   "source": [
    "# Open Functions\n"
   ]
  },
  {
   "cell_type": "code",
   "execution_count": null,
   "metadata": {},
   "outputs": [],
   "source": [
    "\n",
    "stuff = 'hello \\n world'\n",
    "print(stuff)\n",
    "\n",
    "# \\n New line it is a character, it count in len() function\n",
    "\n",
    "xfile = open('Text.txt', 'r')\n",
    "count = 0\n",
    "words = 0\n",
    "\n",
    "for line in xfile:\n",
    "    count = count + 1\n",
    "    print(count)\n",
    "    print(line)\n",
    "    words = words + len(line.split())\n",
    "    print(words)\n",
    "    list.append(line)\n",
    "    print(list) \n",
    "\n",
    "R= xfile.read()\n",
    "print(len(R))\n",
    "\n",
    "# we can get a list of keys and values or item (both) from a dictionary\n",
    "# dictionary methods .keys() and.values() , items(), \n",
    "# two iteration variables for key,valuer in dictionary.items()\n",
    "\n",
    "name = input('Enter file: ')\n",
    "try:\n",
    "    handle = open(name, 'r')\n",
    "except FileNotFoundError:\n",
    "    print('File not found')\n",
    "    exit()\n",
    "counts = dict()\n",
    "# loop for read each line \n",
    "for line in handle:\n",
    "    words = line.split() #split() returns a list of strings, becomes each line in a list of each word\n",
    "    #print(words)\n",
    "    for word in words:\n",
    "        counts[word] = counts.get(word, 0) + 1\n",
    "        print(counts, word)\n",
    "\n",
    "bigcount = None\n",
    "bigword = None\n",
    "for word, count in list(counts.items()):\n",
    "    if bigcount is None or count > bigcount:\n",
    "        bigword = word\n",
    "        bigcount = count\n",
    "\n",
    "print(bigword, bigcount)\n",
    "\n",
    "#Spaces and \\n count in len() function '''\n",
    "\n"
   ]
  },
  {
   "cell_type": "markdown",
   "metadata": {},
   "source": [
    "# Tuples\n",
    "tuples are like list but they are unmutable and can't be changed and insted of braces the use parenthesis., it behavelike a string in tha case.\n",
    "tuples can assign tuples values on left hand side of an assigment statement\n",
    "(x, y) = (1, 'fred') or (a, b) = (2, 2)\n",
    "we can get a tuple from a dictionary using the method .items() it returns a list of tuples"
   ]
  },
  {
   "cell_type": "code",
   "execution_count": null,
   "metadata": {},
   "outputs": [],
   "source": [
    "\n",
    "\n",
    "d = {'a': 1, 'c': 10, 'b': 7}\n",
    "\n",
    "for key, value in sorted(d.items()): # this code will print the key and the value of the dictionary ordered by the keys\n",
    "    print(key, value)\n",
    "\n",
    "# How do we sort by values \n",
    "tmp = list()\n",
    "for k, v in d.items():\n",
    "    #print(v, k)\n",
    "    tmp.append((v, k))\n",
    "    print(tmp)\n",
    "tmp = sorted(tmp, reverse=True)\n",
    "print(tmp)"
   ]
  }
 ],
 "metadata": {
  "kernelspec": {
   "display_name": "Python 3",
   "language": "python",
   "name": "python3"
  },
  "language_info": {
   "codemirror_mode": {
    "name": "ipython",
    "version": 3
   },
   "file_extension": ".py",
   "mimetype": "text/x-python",
   "name": "python",
   "nbconvert_exporter": "python",
   "pygments_lexer": "ipython3",
   "version": "3.11.5"
  }
 },
 "nbformat": 4,
 "nbformat_minor": 2
}
