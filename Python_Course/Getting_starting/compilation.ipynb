{
 "cells": [
  {
   "cell_type": "markdown",
   "metadata": {},
   "source": [
    "# Data Types\n",
    "Data Types in python"
   ]
  },
  {
   "cell_type": "code",
   "execution_count": 2,
   "metadata": {},
   "outputs": [
    {
     "name": "stdout",
     "output_type": "stream",
     "text": [
      "A <class 'str'> Writing programs (or programming) is a very creative and rewarding activity\n",
      "B <class 'list'> [1, 2, 3, 4, 5]\n",
      "C <class 'int'> 87\n",
      "D <class 'float'> 58.5\n",
      "E <class 'bytes'> b'hola'\n",
      "EE <class 'memoryview'> <memory at 0x0000015EF10F9D80>\n",
      "EEE <class 'type'> <class 'bytes'>\n",
      "EEEE <class 'bytearray'> <class 'bytes'>\n",
      "F <class 'dict'> {'key': 15, 'key1': 'value'}\n",
      "G <class 'tuple'> (5, 15, 'hello world')\n",
      "H <class 'bool'> True\n",
      "I <class 'NoneType'> None\n",
      "J <class 'int'> 15\n",
      "K <class 'set'> {'world', 'Hello'}\n"
     ]
    }
   ],
   "source": [
    "# Types matters\n",
    "#Python knows what types everythings is \n",
    "\n",
    "A = \"Writing programs (or programming) is a very creative and rewarding activity\"\n",
    "B = [1,2,3,4,5]\n",
    "C = 87\n",
    "D = 58.5\n",
    "E = b'hola'\n",
    "EE = memoryview(E)\n",
    "EEE = bytes\n",
    "EEEE = bytearray(b'hello world')\n",
    "F = {\"key\": 15, \"key1\":\"value\"}\n",
    "G = (5,15, \"hello world\")\n",
    "H = True\n",
    "I = None\n",
    "J = 15\n",
    "K = {\"Hello\", \"world\"}\n",
    "\n",
    "print('A', type(A), A) \n",
    "print('B', type(B), B)\n",
    "print('C', type(C), C)\n",
    "print('D', type(D), D)\n",
    "print('E', type(E), E)\n",
    "print('EE', type(EE), EE)\n",
    "print('EEE', type(EEE), EEE)\n",
    "print('EEEE', type(EEEE), EEE)\n",
    "print('F', type(F), F)\n",
    "print('G', type(G), G)\n",
    "print('H', type(H), H)\n",
    "print('I', type(I), I)\n",
    "print('J', type(J), J)\n",
    "print('K', type(K), K)"
   ]
  },
  {
   "cell_type": "markdown",
   "metadata": {},
   "source": [
    "# Input Data\n",
    " Using the try-except clause"
   ]
  },
  {
   "cell_type": "code",
   "execution_count": 4,
   "metadata": {},
   "outputs": [
    {
     "name": "stdout",
     "output_type": "stream",
     "text": [
      "Us Floor 11\n"
     ]
    }
   ],
   "source": [
    "inp = input('Europe floor?')\n",
    "usf = int(inp) + 1\n",
    "print('Us Floor', usf)"
   ]
  },
  {
   "cell_type": "code",
   "execution_count": 5,
   "metadata": {},
   "outputs": [
    {
     "name": "stdout",
     "output_type": "stream",
     "text": [
      "The temperature in Celsius is -9.44\n"
     ]
    }
   ],
   "source": [
    "inp = input( 'Enter a fahrenheit temperature: ') # the function input is a keyword reserved for request to the user \n",
    "\n",
    "try: \n",
    "    fahr = float(inp)\n",
    "    cel = (fahr - 32) * 5 / 9\n",
    "    print( f'The temperature in Celsius is {cel:.2f}') # :.2f with two decimals\n",
    "except:\n",
    "    print( 'Please enter a valid temperature')"
   ]
  },
  {
   "cell_type": "markdown",
   "metadata": {},
   "source": [
    "# Most Common word \n",
    "using the with and open clause that open and close the file"
   ]
  },
  {
   "cell_type": "code",
   "execution_count": null,
   "metadata": {},
   "outputs": [],
   "source": [
    "\n",
    "# Get the name of the file open it\n",
    "name = input('Enter File: ')\n",
    "with open(name, 'r') as handle:\n",
    "    counts = dict()\n",
    "    for line in  handle:\n",
    "        words = line.split()\n",
    "        for word in words:\n",
    "            counts[word] = counts.get(word,0) + 1\n",
    "\n",
    "    # find the most common word\n",
    "\n",
    "    bigcount = None\n",
    "    bigword = None\n",
    "    for word, count in counts.items():\n",
    "        if bigcount is None or count > bigcount:\n",
    "            bigcount = count\n",
    "            bigword = word\n",
    "\n",
    "print(bigword, bigcount)"
   ]
  },
  {
   "cell_type": "code",
   "execution_count": null,
   "metadata": {},
   "outputs": [
    {
     "name": "stdout",
     "output_type": "stream",
     "text": [
      "before None\n",
      "12 12\n",
      "23 23\n",
      "33 33\n",
      "33 4\n",
      "33 15\n",
      "33 6\n",
      "97 97\n",
      "97 86\n",
      "97 9\n",
      "97 10\n",
      "after 97\n"
     ]
    }
   ],
   "source": [
    "# Find the largest value\n",
    "looking = None\n",
    "print('before', looking)\n",
    "for i in [12,23,33,4,15,6,97,86,9,10]:\n",
    "    if looking == None:\n",
    "        looking = i\n",
    "    elif i > looking :\n",
    "        looking = i\n",
    "    print(looking, i)\n",
    "print('after', looking)\n",
    "# Ctrl + Shift + L (Change the name of all variables)"
   ]
  },
  {
   "cell_type": "markdown",
   "metadata": {},
   "source": []
  },
  {
   "cell_type": "markdown",
   "metadata": {},
   "source": [
    "# Functions"
   ]
  },
  {
   "cell_type": "code",
   "execution_count": null,
   "metadata": {},
   "outputs": [],
   "source": [
    "def sum(a,b): \n",
    "    added = a+b\n",
    "    return added\n",
    "def subtract(a,b):\n",
    "    sub = a-b\n",
    "    return sub\n",
    "X = sum(1,2)\n",
    "y = subtract(1,2)\n",
    "\n",
    "print(X)\n",
    "print(y)\n"
   ]
  },
  {
   "cell_type": "markdown",
   "metadata": {},
   "source": [
    "# loops\n",
    "loops \"while loop\" and \"for loop\""
   ]
  },
  {
   "cell_type": "code",
   "execution_count": null,
   "metadata": {},
   "outputs": [],
   "source": [
    "#Counting, addition, Average\n",
    "A = 0\n",
    "B= 0\n",
    "c = 0\n",
    "print('before', A)\n",
    "for i in [12,23,33,4,15,6,6,6,15,15,15,15,15,15,15,15]:\n",
    "    A = A + 1\n",
    "    B = B + i\n",
    "    print(A, i, B)\n",
    "print('after', A, B, B/A)\n"
   ]
  },
  {
   "cell_type": "code",
   "execution_count": null,
   "metadata": {},
   "outputs": [],
   "source": [
    "# Just a while loop\n",
    "n = 5\n",
    "while n > 0:\n",
    "    print(n)\n",
    "    n = n - 1\n",
    "print(n)\n",
    "\n",
    "# while True\n",
    "while True:\n",
    "    line = input()\n",
    "    if line == 'sipi':\n",
    "        break\n",
    "    print(line)\n",
    "print('done')\n",
    "\n",
    "# while continue"
   ]
  },
  {
   "cell_type": "code",
   "execution_count": null,
   "metadata": {},
   "outputs": [],
   "source": [
    "# Simple for loop\n",
    "for i in range(1,10):\n",
    "    print(i)\n",
    "\n",
    "friends = ['Mike', 'John', 'Jane']\n",
    "for friend in friends:\n",
    "    print('hello', friend)\n",
    "print('done')"
   ]
  },
  {
   "cell_type": "code",
   "execution_count": null,
   "metadata": {},
   "outputs": [],
   "source": [
    "'''\n",
    "2.  Modify the convert.py program (listed below) with a loop so that it executes 5 times before quitting. Each time through the loop, the program should get another temperature from the user and print the convertedvalue.\n",
    "# convert.py\n",
    "# A program to convert Celsius temps to Fahrenheit\n",
    "def main():\n",
    "    celsius = eval(input(\"What is the Celsius temperature? \"))\n",
    "    fahrenheit = 9/5 * celsius + 32\n",
    "    print(\"The temperature is\", fahrenheit, \"degrees Fahrenheit.\")\n",
    "main()\n",
    "\n",
    "'''\n",
    "\n",
    "def main():\n",
    "    counter = 0\n",
    "    while counter < 5:\n",
    "        try:\n",
    "            celsius = eval(input(\"What is the Celsius temperature? \"))\n",
    "        except:\n",
    "            print(\"You must enter a number!\")\n",
    "            return\n",
    "        fahrenheit = 9/5 * celsius + 32\n",
    "        print(\"The temperature is\", fahrenheit, \"degrees Fahrenheit.\")\n",
    "        counter += 1\n",
    "main()"
   ]
  },
  {
   "cell_type": "code",
   "execution_count": null,
   "metadata": {},
   "outputs": [],
   "source": [
    "'''\n",
    "3. Write a program to sum a series of numbers entered by the user and print the sum. The program should also calculate and print the average of the numbers entered.  The program should first prompt the user for how many numbers are to be summed. The program should then prompt the user for each of the numbers in turn and print out a total sum after all the numbers have been entered. Hint: Use an input statement in the body of the loop.\n",
    "'''\n",
    "def main():\n",
    "    counter = 0\n",
    "    total = 0\n",
    "    try:\n",
    "        HowMany = eval(input('How many numbers do you want to enter? '))\n",
    "    except:\n",
    "        print(\"You must enter a number!\")\n",
    "        return\n",
    "    while counter < HowMany:\n",
    "        try:\n",
    "            number = eval(input(\"Enter a number: \"))\n",
    "        except:\n",
    "            print(\"You must enter a number!\")\n",
    "            return\n",
    "        total += number\n",
    "        counter += 1\n",
    "        continue\n",
    "    average = total / counter\n",
    "    print(\"The sum is\", total)\n",
    "    print(\"The average is\", average)\n",
    "\n",
    "main()"
   ]
  },
  {
   "cell_type": "markdown",
   "metadata": {},
   "source": [
    "# Math library"
   ]
  },
  {
   "cell_type": "code",
   "execution_count": null,
   "metadata": {},
   "outputs": [],
   "source": [
    "import math\n",
    "\n",
    "degress = float(input('Enter a degree in degrees: '))\n",
    "radian = degress*math.pi/180\n",
    "sin = math.sin(radian)\n",
    "print(sin)\n",
    "\n",
    "#radian = math.radians(float(degress))"
   ]
  }
 ],
 "metadata": {
  "kernelspec": {
   "display_name": "Python 3",
   "language": "python",
   "name": "python3"
  },
  "language_info": {
   "codemirror_mode": {
    "name": "ipython",
    "version": 3
   },
   "file_extension": ".py",
   "mimetype": "text/x-python",
   "name": "python",
   "nbconvert_exporter": "python",
   "pygments_lexer": "ipython3",
   "version": "3.11.5"
  }
 },
 "nbformat": 4,
 "nbformat_minor": 2
}
